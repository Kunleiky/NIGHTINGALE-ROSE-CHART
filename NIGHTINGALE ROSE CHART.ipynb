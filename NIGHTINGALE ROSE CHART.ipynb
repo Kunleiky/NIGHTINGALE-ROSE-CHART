{
 "cells": [
  {
   "cell_type": "markdown",
   "metadata": {},
   "source": [
    "# This project involves building a Nightingale Rose Chart using Covid-19 data"
   ]
  },
  {
   "cell_type": "code",
   "execution_count": 7,
   "metadata": {
    "ExecuteTime": {
     "end_time": "2021-01-08T00:42:49.540516Z",
     "start_time": "2021-01-08T00:42:33.995413Z"
    }
   },
   "outputs": [],
   "source": [
    "import webbrowser\n",
    "import pandas as pd\n",
    "from pyecharts.charts import Pie\n",
    "from pyecharts import options as opts"
   ]
  },
  {
   "cell_type": "code",
   "execution_count": 88,
   "metadata": {
    "ExecuteTime": {
     "end_time": "2021-01-08T10:24:12.882693Z",
     "start_time": "2021-01-08T10:24:12.566227Z"
    }
   },
   "outputs": [
    {
     "data": {
      "text/plain": [
       "True"
      ]
     },
     "execution_count": 88,
     "metadata": {},
     "output_type": "execute_result"
    }
   ],
   "source": [
    "#OPen the website and get the data with webbrowser\n",
    "url='https://www.worldometers.info/coronavirus/'\n",
    "webbrowser.open(url)"
   ]
  },
  {
   "cell_type": "code",
   "execution_count": 91,
   "metadata": {
    "ExecuteTime": {
     "end_time": "2021-01-08T10:25:26.283373Z",
     "start_time": "2021-01-08T10:25:26.092592Z"
    }
   },
   "outputs": [],
   "source": [
    "df=pd.read_clipboard()"
   ]
  },
  {
   "cell_type": "code",
   "execution_count": 92,
   "metadata": {
    "ExecuteTime": {
     "end_time": "2021-01-08T10:25:29.236617Z",
     "start_time": "2021-01-08T10:25:29.126956Z"
    }
   },
   "outputs": [
    {
     "data": {
      "text/html": [
       "<div>\n",
       "<style scoped>\n",
       "    .dataframe tbody tr th:only-of-type {\n",
       "        vertical-align: middle;\n",
       "    }\n",
       "\n",
       "    .dataframe tbody tr th {\n",
       "        vertical-align: top;\n",
       "    }\n",
       "\n",
       "    .dataframe thead th {\n",
       "        text-align: right;\n",
       "    }\n",
       "</style>\n",
       "<table border=\"1\" class=\"dataframe\">\n",
       "  <thead>\n",
       "    <tr style=\"text-align: right;\">\n",
       "      <th></th>\n",
       "      <th>1</th>\n",
       "      <th>USA</th>\n",
       "      <th>22,137,009</th>\n",
       "      <th>Unnamed: 3</th>\n",
       "      <th>374,197</th>\n",
       "      <th>Unnamed: 5</th>\n",
       "      <th>13,143,317</th>\n",
       "      <th>8,619,495</th>\n",
       "      <th>29,034</th>\n",
       "      <th>66,675</th>\n",
       "      <th>1,127</th>\n",
       "      <th>265,444,863</th>\n",
       "      <th>799,501</th>\n",
       "      <th>332,013,304</th>\n",
       "    </tr>\n",
       "  </thead>\n",
       "  <tbody>\n",
       "    <tr>\n",
       "      <th>0</th>\n",
       "      <td>2</td>\n",
       "      <td>India</td>\n",
       "      <td>10,414,044</td>\n",
       "      <td>NaN</td>\n",
       "      <td>150,606</td>\n",
       "      <td>NaN</td>\n",
       "      <td>10,037,398</td>\n",
       "      <td>226,040</td>\n",
       "      <td>8,944</td>\n",
       "      <td>7,508</td>\n",
       "      <td>109</td>\n",
       "      <td>179,336,364</td>\n",
       "      <td>129,293</td>\n",
       "      <td>1,387,049,203</td>\n",
       "    </tr>\n",
       "    <tr>\n",
       "      <th>1</th>\n",
       "      <td>3</td>\n",
       "      <td>Brazil</td>\n",
       "      <td>7,961,673</td>\n",
       "      <td>NaN</td>\n",
       "      <td>200,498</td>\n",
       "      <td>NaN</td>\n",
       "      <td>7,096,931</td>\n",
       "      <td>664,244</td>\n",
       "      <td>8,318</td>\n",
       "      <td>37,318</td>\n",
       "      <td>940</td>\n",
       "      <td>28,600,000</td>\n",
       "      <td>134,055</td>\n",
       "      <td>213,345,480</td>\n",
       "    </tr>\n",
       "    <tr>\n",
       "      <th>2</th>\n",
       "      <td>4</td>\n",
       "      <td>Russia</td>\n",
       "      <td>3,355,794</td>\n",
       "      <td>+23,652</td>\n",
       "      <td>60,911</td>\n",
       "      <td>+454</td>\n",
       "      <td>2,731,129</td>\n",
       "      <td>563,754</td>\n",
       "      <td>2,300</td>\n",
       "      <td>22,990</td>\n",
       "      <td>417</td>\n",
       "      <td>92,900,000</td>\n",
       "      <td>636,445</td>\n",
       "      <td>145,967,164</td>\n",
       "    </tr>\n",
       "    <tr>\n",
       "      <th>3</th>\n",
       "      <td>5</td>\n",
       "      <td>UK</td>\n",
       "      <td>2,889,419</td>\n",
       "      <td>NaN</td>\n",
       "      <td>78,508</td>\n",
       "      <td>NaN</td>\n",
       "      <td>1,364,821</td>\n",
       "      <td>1,446,090</td>\n",
       "      <td>2,821</td>\n",
       "      <td>42,447</td>\n",
       "      <td>1,153</td>\n",
       "      <td>58,231,730</td>\n",
       "      <td>855,446</td>\n",
       "      <td>68,071,770</td>\n",
       "    </tr>\n",
       "    <tr>\n",
       "      <th>4</th>\n",
       "      <td>6</td>\n",
       "      <td>France</td>\n",
       "      <td>2,727,321</td>\n",
       "      <td>NaN</td>\n",
       "      <td>66,841</td>\n",
       "      <td>NaN</td>\n",
       "      <td>198,756</td>\n",
       "      <td>2,461,724</td>\n",
       "      <td>2,616</td>\n",
       "      <td>41,735</td>\n",
       "      <td>1,023</td>\n",
       "      <td>36,890,043</td>\n",
       "      <td>564,509</td>\n",
       "      <td>65,348,904</td>\n",
       "    </tr>\n",
       "  </tbody>\n",
       "</table>\n",
       "</div>"
      ],
      "text/plain": [
       "   1     USA  22,137,009 Unnamed: 3  374,197 Unnamed: 5  13,143,317  \\\n",
       "0  2   India  10,414,044        NaN  150,606        NaN  10,037,398   \n",
       "1  3  Brazil   7,961,673        NaN  200,498        NaN   7,096,931   \n",
       "2  4  Russia   3,355,794    +23,652   60,911       +454   2,731,129   \n",
       "3  5      UK   2,889,419        NaN   78,508        NaN   1,364,821   \n",
       "4  6  France   2,727,321        NaN   66,841        NaN     198,756   \n",
       "\n",
       "   8,619,495 29,034  66,675  1,127  265,444,863  799,501    332,013,304  \n",
       "0    226,040  8,944   7,508    109  179,336,364  129,293  1,387,049,203  \n",
       "1    664,244  8,318  37,318    940   28,600,000  134,055    213,345,480  \n",
       "2    563,754  2,300  22,990    417   92,900,000  636,445    145,967,164  \n",
       "3  1,446,090  2,821  42,447  1,153   58,231,730  855,446     68,071,770  \n",
       "4  2,461,724  2,616  41,735  1,023   36,890,043  564,509     65,348,904  "
      ]
     },
     "execution_count": 92,
     "metadata": {},
     "output_type": "execute_result"
    }
   ],
   "source": [
    "df.head()"
   ]
  },
  {
   "cell_type": "code",
   "execution_count": 93,
   "metadata": {
    "ExecuteTime": {
     "end_time": "2021-01-08T10:25:35.854570Z",
     "start_time": "2021-01-08T10:25:35.804998Z"
    }
   },
   "outputs": [],
   "source": [
    "#The data does not have a column heading yet so we will add the column heading to the data\n",
    "df.columns=['s/n','country','total_cases','new_cases','total_deaths','new_deaths','total_recovered','active_cases','critical_condition','total_cases_per_million','death_per_million','total_tests','test_per_million','population']"
   ]
  },
  {
   "cell_type": "code",
   "execution_count": 94,
   "metadata": {
    "ExecuteTime": {
     "end_time": "2021-01-08T10:25:36.797960Z",
     "start_time": "2021-01-08T10:25:36.730361Z"
    }
   },
   "outputs": [
    {
     "data": {
      "text/html": [
       "<div>\n",
       "<style scoped>\n",
       "    .dataframe tbody tr th:only-of-type {\n",
       "        vertical-align: middle;\n",
       "    }\n",
       "\n",
       "    .dataframe tbody tr th {\n",
       "        vertical-align: top;\n",
       "    }\n",
       "\n",
       "    .dataframe thead th {\n",
       "        text-align: right;\n",
       "    }\n",
       "</style>\n",
       "<table border=\"1\" class=\"dataframe\">\n",
       "  <thead>\n",
       "    <tr style=\"text-align: right;\">\n",
       "      <th></th>\n",
       "      <th>s/n</th>\n",
       "      <th>country</th>\n",
       "      <th>total_cases</th>\n",
       "      <th>new_cases</th>\n",
       "      <th>total_deaths</th>\n",
       "      <th>new_deaths</th>\n",
       "      <th>total_recovered</th>\n",
       "      <th>active_cases</th>\n",
       "      <th>critical_condition</th>\n",
       "      <th>total_cases_per_million</th>\n",
       "      <th>death_per_million</th>\n",
       "      <th>total_tests</th>\n",
       "      <th>test_per_million</th>\n",
       "      <th>population</th>\n",
       "    </tr>\n",
       "  </thead>\n",
       "  <tbody>\n",
       "    <tr>\n",
       "      <th>0</th>\n",
       "      <td>2</td>\n",
       "      <td>India</td>\n",
       "      <td>10,414,044</td>\n",
       "      <td>NaN</td>\n",
       "      <td>150,606</td>\n",
       "      <td>NaN</td>\n",
       "      <td>10,037,398</td>\n",
       "      <td>226,040</td>\n",
       "      <td>8,944</td>\n",
       "      <td>7,508</td>\n",
       "      <td>109</td>\n",
       "      <td>179,336,364</td>\n",
       "      <td>129,293</td>\n",
       "      <td>1,387,049,203</td>\n",
       "    </tr>\n",
       "    <tr>\n",
       "      <th>1</th>\n",
       "      <td>3</td>\n",
       "      <td>Brazil</td>\n",
       "      <td>7,961,673</td>\n",
       "      <td>NaN</td>\n",
       "      <td>200,498</td>\n",
       "      <td>NaN</td>\n",
       "      <td>7,096,931</td>\n",
       "      <td>664,244</td>\n",
       "      <td>8,318</td>\n",
       "      <td>37,318</td>\n",
       "      <td>940</td>\n",
       "      <td>28,600,000</td>\n",
       "      <td>134,055</td>\n",
       "      <td>213,345,480</td>\n",
       "    </tr>\n",
       "    <tr>\n",
       "      <th>2</th>\n",
       "      <td>4</td>\n",
       "      <td>Russia</td>\n",
       "      <td>3,355,794</td>\n",
       "      <td>+23,652</td>\n",
       "      <td>60,911</td>\n",
       "      <td>+454</td>\n",
       "      <td>2,731,129</td>\n",
       "      <td>563,754</td>\n",
       "      <td>2,300</td>\n",
       "      <td>22,990</td>\n",
       "      <td>417</td>\n",
       "      <td>92,900,000</td>\n",
       "      <td>636,445</td>\n",
       "      <td>145,967,164</td>\n",
       "    </tr>\n",
       "    <tr>\n",
       "      <th>3</th>\n",
       "      <td>5</td>\n",
       "      <td>UK</td>\n",
       "      <td>2,889,419</td>\n",
       "      <td>NaN</td>\n",
       "      <td>78,508</td>\n",
       "      <td>NaN</td>\n",
       "      <td>1,364,821</td>\n",
       "      <td>1,446,090</td>\n",
       "      <td>2,821</td>\n",
       "      <td>42,447</td>\n",
       "      <td>1,153</td>\n",
       "      <td>58,231,730</td>\n",
       "      <td>855,446</td>\n",
       "      <td>68,071,770</td>\n",
       "    </tr>\n",
       "    <tr>\n",
       "      <th>4</th>\n",
       "      <td>6</td>\n",
       "      <td>France</td>\n",
       "      <td>2,727,321</td>\n",
       "      <td>NaN</td>\n",
       "      <td>66,841</td>\n",
       "      <td>NaN</td>\n",
       "      <td>198,756</td>\n",
       "      <td>2,461,724</td>\n",
       "      <td>2,616</td>\n",
       "      <td>41,735</td>\n",
       "      <td>1,023</td>\n",
       "      <td>36,890,043</td>\n",
       "      <td>564,509</td>\n",
       "      <td>65,348,904</td>\n",
       "    </tr>\n",
       "  </tbody>\n",
       "</table>\n",
       "</div>"
      ],
      "text/plain": [
       "   s/n country total_cases new_cases total_deaths new_deaths total_recovered  \\\n",
       "0    2   India  10,414,044       NaN      150,606        NaN      10,037,398   \n",
       "1    3  Brazil   7,961,673       NaN      200,498        NaN       7,096,931   \n",
       "2    4  Russia   3,355,794   +23,652       60,911       +454       2,731,129   \n",
       "3    5      UK   2,889,419       NaN       78,508        NaN       1,364,821   \n",
       "4    6  France   2,727,321       NaN       66,841        NaN         198,756   \n",
       "\n",
       "  active_cases critical_condition total_cases_per_million death_per_million  \\\n",
       "0      226,040              8,944                   7,508               109   \n",
       "1      664,244              8,318                  37,318               940   \n",
       "2      563,754              2,300                  22,990               417   \n",
       "3    1,446,090              2,821                  42,447             1,153   \n",
       "4    2,461,724              2,616                  41,735             1,023   \n",
       "\n",
       "   total_tests test_per_million     population  \n",
       "0  179,336,364          129,293  1,387,049,203  \n",
       "1   28,600,000          134,055    213,345,480  \n",
       "2   92,900,000          636,445    145,967,164  \n",
       "3   58,231,730          855,446     68,071,770  \n",
       "4   36,890,043          564,509     65,348,904  "
      ]
     },
     "execution_count": 94,
     "metadata": {},
     "output_type": "execute_result"
    }
   ],
   "source": [
    "df.head()"
   ]
  },
  {
   "cell_type": "code",
   "execution_count": 95,
   "metadata": {
    "ExecuteTime": {
     "end_time": "2021-01-08T10:25:38.032179Z",
     "start_time": "2021-01-08T10:25:37.595632Z"
    }
   },
   "outputs": [
    {
     "name": "stdout",
     "output_type": "stream",
     "text": [
      "<class 'pandas.core.frame.DataFrame'>\n",
      "RangeIndex: 219 entries, 0 to 218\n",
      "Data columns (total 14 columns):\n",
      " #   Column                   Non-Null Count  Dtype \n",
      "---  ------                   --------------  ----- \n",
      " 0   s/n                      219 non-null    int64 \n",
      " 1   country                  219 non-null    object\n",
      " 2   total_cases              219 non-null    object\n",
      " 3   new_cases                43 non-null     object\n",
      " 4   total_deaths             200 non-null    object\n",
      " 5   new_deaths               32 non-null     object\n",
      " 6   total_recovered          216 non-null    object\n",
      " 7   active_cases             216 non-null    object\n",
      " 8   critical_condition       141 non-null    object\n",
      " 9   total_cases_per_million  217 non-null    object\n",
      " 10  death_per_million        198 non-null    object\n",
      " 11  total_tests              200 non-null    object\n",
      " 12  test_per_million         200 non-null    object\n",
      " 13  population               217 non-null    object\n",
      "dtypes: int64(1), object(13)\n",
      "memory usage: 24.1+ KB\n"
     ]
    }
   ],
   "source": [
    "df.info()"
   ]
  },
  {
   "cell_type": "code",
   "execution_count": 96,
   "metadata": {
    "ExecuteTime": {
     "end_time": "2021-01-08T10:25:44.587373Z",
     "start_time": "2021-01-08T10:25:44.466199Z"
    }
   },
   "outputs": [],
   "source": [
    "#Perform some data manipulation\n",
    "#Remove \",\" from the dataset \n",
    "for x in range (1,len(df.columns)):\n",
    "    df[df.columns[x]]=df[df.columns[x]].str.replace(',','')"
   ]
  },
  {
   "cell_type": "code",
   "execution_count": 97,
   "metadata": {
    "ExecuteTime": {
     "end_time": "2021-01-08T10:25:53.223888Z",
     "start_time": "2021-01-08T10:25:53.164799Z"
    }
   },
   "outputs": [],
   "source": [
    "#replace Nans with zeros\n",
    "df=df.fillna(0)"
   ]
  },
  {
   "cell_type": "code",
   "execution_count": 98,
   "metadata": {
    "ExecuteTime": {
     "end_time": "2021-01-08T10:25:54.356051Z",
     "start_time": "2021-01-08T10:25:54.234871Z"
    }
   },
   "outputs": [],
   "source": [
    "#Change the object from string to integer\n",
    "for i in range(2,len(df.columns)):\n",
    "    df[df.columns[i]]=df[df.columns[i]].astype(float).astype(int)"
   ]
  },
  {
   "cell_type": "code",
   "execution_count": 99,
   "metadata": {
    "ExecuteTime": {
     "end_time": "2021-01-08T10:25:55.223625Z",
     "start_time": "2021-01-08T10:25:55.185070Z"
    }
   },
   "outputs": [
    {
     "name": "stdout",
     "output_type": "stream",
     "text": [
      "<class 'pandas.core.frame.DataFrame'>\n",
      "RangeIndex: 219 entries, 0 to 218\n",
      "Data columns (total 14 columns):\n",
      " #   Column                   Non-Null Count  Dtype \n",
      "---  ------                   --------------  ----- \n",
      " 0   s/n                      219 non-null    int64 \n",
      " 1   country                  219 non-null    object\n",
      " 2   total_cases              219 non-null    int32 \n",
      " 3   new_cases                219 non-null    int32 \n",
      " 4   total_deaths             219 non-null    int32 \n",
      " 5   new_deaths               219 non-null    int32 \n",
      " 6   total_recovered          219 non-null    int32 \n",
      " 7   active_cases             219 non-null    int32 \n",
      " 8   critical_condition       219 non-null    int32 \n",
      " 9   total_cases_per_million  219 non-null    int32 \n",
      " 10  death_per_million        219 non-null    int32 \n",
      " 11  total_tests              219 non-null    int32 \n",
      " 12  test_per_million         219 non-null    int32 \n",
      " 13  population               219 non-null    int32 \n",
      "dtypes: int32(12), int64(1), object(1)\n",
      "memory usage: 13.8+ KB\n"
     ]
    }
   ],
   "source": [
    "df.info()"
   ]
  },
  {
   "cell_type": "code",
   "execution_count": 100,
   "metadata": {
    "ExecuteTime": {
     "end_time": "2021-01-08T10:25:56.337617Z",
     "start_time": "2021-01-08T10:25:56.107778Z"
    }
   },
   "outputs": [],
   "source": [
    "#Sort the dataframe by death_rate in descending order\n",
    "df=df.sort_values(by=['total_deaths'],inplace=True,ascending=False)"
   ]
  },
  {
   "cell_type": "code",
   "execution_count": 101,
   "metadata": {
    "ExecuteTime": {
     "end_time": "2021-01-08T10:25:57.609182Z",
     "start_time": "2021-01-08T10:25:57.601670Z"
    }
   },
   "outputs": [],
   "source": [
    "#Select the top 15 countries which have the highest death rate \n",
    "#df15=df[['country','total_deaths']].head(15)"
   ]
  },
  {
   "cell_type": "code",
   "execution_count": 102,
   "metadata": {
    "ExecuteTime": {
     "end_time": "2021-01-08T10:26:00.415432Z",
     "start_time": "2021-01-08T10:26:00.325799Z"
    }
   },
   "outputs": [
    {
     "data": {
      "text/html": [
       "<div>\n",
       "<style scoped>\n",
       "    .dataframe tbody tr th:only-of-type {\n",
       "        vertical-align: middle;\n",
       "    }\n",
       "\n",
       "    .dataframe tbody tr th {\n",
       "        vertical-align: top;\n",
       "    }\n",
       "\n",
       "    .dataframe thead th {\n",
       "        text-align: right;\n",
       "    }\n",
       "</style>\n",
       "<table border=\"1\" class=\"dataframe\">\n",
       "  <thead>\n",
       "    <tr style=\"text-align: right;\">\n",
       "      <th></th>\n",
       "      <th>index</th>\n",
       "      <th>country</th>\n",
       "      <th>total_deaths</th>\n",
       "    </tr>\n",
       "  </thead>\n",
       "  <tbody>\n",
       "    <tr>\n",
       "      <th>0</th>\n",
       "      <td>1</td>\n",
       "      <td>Brazil</td>\n",
       "      <td>2004980000</td>\n",
       "    </tr>\n",
       "    <tr>\n",
       "      <th>1</th>\n",
       "      <td>0</td>\n",
       "      <td>India</td>\n",
       "      <td>1506060000</td>\n",
       "    </tr>\n",
       "    <tr>\n",
       "      <th>2</th>\n",
       "      <td>11</td>\n",
       "      <td>Mexico</td>\n",
       "      <td>1299870000</td>\n",
       "    </tr>\n",
       "    <tr>\n",
       "      <th>3</th>\n",
       "      <td>3</td>\n",
       "      <td>UK</td>\n",
       "      <td>785080000</td>\n",
       "    </tr>\n",
       "    <tr>\n",
       "      <th>4</th>\n",
       "      <td>6</td>\n",
       "      <td>Italy</td>\n",
       "      <td>772910000</td>\n",
       "    </tr>\n",
       "    <tr>\n",
       "      <th>5</th>\n",
       "      <td>4</td>\n",
       "      <td>France</td>\n",
       "      <td>668410000</td>\n",
       "    </tr>\n",
       "    <tr>\n",
       "      <th>6</th>\n",
       "      <td>2</td>\n",
       "      <td>Russia</td>\n",
       "      <td>604570000</td>\n",
       "    </tr>\n",
       "    <tr>\n",
       "      <th>7</th>\n",
       "      <td>13</td>\n",
       "      <td>Iran</td>\n",
       "      <td>559330000</td>\n",
       "    </tr>\n",
       "    <tr>\n",
       "      <th>8</th>\n",
       "      <td>7</td>\n",
       "      <td>Spain</td>\n",
       "      <td>516750000</td>\n",
       "    </tr>\n",
       "    <tr>\n",
       "      <th>9</th>\n",
       "      <td>9</td>\n",
       "      <td>Colombia</td>\n",
       "      <td>450670000</td>\n",
       "    </tr>\n",
       "    <tr>\n",
       "      <th>10</th>\n",
       "      <td>10</td>\n",
       "      <td>Argentina</td>\n",
       "      <td>441220000</td>\n",
       "    </tr>\n",
       "    <tr>\n",
       "      <th>11</th>\n",
       "      <td>8</td>\n",
       "      <td>Germany</td>\n",
       "      <td>392580000</td>\n",
       "    </tr>\n",
       "    <tr>\n",
       "      <th>12</th>\n",
       "      <td>16</td>\n",
       "      <td>Peru</td>\n",
       "      <td>380490000</td>\n",
       "    </tr>\n",
       "    <tr>\n",
       "      <th>13</th>\n",
       "      <td>14</td>\n",
       "      <td>South Africa</td>\n",
       "      <td>318090000</td>\n",
       "    </tr>\n",
       "    <tr>\n",
       "      <th>14</th>\n",
       "      <td>12</td>\n",
       "      <td>Poland</td>\n",
       "      <td>302410000</td>\n",
       "    </tr>\n",
       "  </tbody>\n",
       "</table>\n",
       "</div>"
      ],
      "text/plain": [
       "    index       country  total_deaths\n",
       "0       1        Brazil    2004980000\n",
       "1       0         India    1506060000\n",
       "2      11        Mexico    1299870000\n",
       "3       3            UK     785080000\n",
       "4       6         Italy     772910000\n",
       "5       4        France     668410000\n",
       "6       2        Russia     604570000\n",
       "7      13          Iran     559330000\n",
       "8       7         Spain     516750000\n",
       "9       9      Colombia     450670000\n",
       "10     10     Argentina     441220000\n",
       "11      8       Germany     392580000\n",
       "12     16          Peru     380490000\n",
       "13     14  South Africa     318090000\n",
       "14     12        Poland     302410000"
      ]
     },
     "execution_count": 102,
     "metadata": {},
     "output_type": "execute_result"
    }
   ],
   "source": [
    "df15.reset_index()"
   ]
  },
  {
   "cell_type": "code",
   "execution_count": 130,
   "metadata": {
    "ExecuteTime": {
     "end_time": "2021-01-08T10:57:11.542809Z",
     "start_time": "2021-01-08T10:57:11.413618Z"
    }
   },
   "outputs": [],
   "source": [
    "#Convert to percentage \n",
    "df15['total_deaths']=(df15['total_deaths']/(df15['total_deaths'].sum())*100).round(1)"
   ]
  },
  {
   "cell_type": "code",
   "execution_count": 131,
   "metadata": {
    "ExecuteTime": {
     "end_time": "2021-01-08T10:57:18.073488Z",
     "start_time": "2021-01-08T10:57:18.008397Z"
    }
   },
   "outputs": [
    {
     "data": {
      "text/plain": [
       "1    -26.6\n",
       "0      5.5\n",
       "11    22.2\n",
       "3     23.4\n",
       "6     -0.4\n",
       "4    -36.7\n",
       "2      6.4\n",
       "13     1.9\n",
       "7      2.6\n",
       "9     41.3\n",
       "10    22.9\n",
       "8     11.8\n",
       "16   -11.8\n",
       "14    34.0\n",
       "12     3.4\n",
       "Name: total_deaths, dtype: float64"
      ]
     },
     "execution_count": 131,
     "metadata": {},
     "output_type": "execute_result"
    }
   ],
   "source": [
    "df15['total_deaths']"
   ]
  },
  {
   "cell_type": "code",
   "execution_count": 132,
   "metadata": {
    "ExecuteTime": {
     "end_time": "2021-01-08T10:58:19.235740Z",
     "start_time": "2021-01-08T10:58:19.195180Z"
    }
   },
   "outputs": [],
   "source": [
    "#Visualize the data \n",
    "c=df15['country'].values.tolist()\n",
    "d=df15['total_deaths'].values.tolist()"
   ]
  },
  {
   "cell_type": "code",
   "execution_count": 133,
   "metadata": {
    "ExecuteTime": {
     "end_time": "2021-01-08T10:58:20.368419Z",
     "start_time": "2021-01-08T10:58:20.347388Z"
    }
   },
   "outputs": [],
   "source": [
    "#Create the color series for the chart\n",
    "color_series = [\n",
    "    \"#802200\", \"#B33000\", \"#FF4500\", \"#FAAA327\", \"#9ECB3C\", \"#6DBC49\", \"#37B44E\",\n",
    "    \"#6A368B\", \"#2C6BA0\", '#44388E', '#6A368B', '#141DCF',\"#D02C2A\",\"#D44C2D\",\"#FA8F2F\"\n",
    "]"
   ]
  },
  {
   "cell_type": "code",
   "execution_count": 134,
   "metadata": {
    "ExecuteTime": {
     "end_time": "2021-01-08T10:58:20.958785Z",
     "start_time": "2021-01-08T10:58:20.944762Z"
    }
   },
   "outputs": [
    {
     "name": "stderr",
     "output_type": "stream",
     "text": [
      "C:\\Users\\MY PC\\New folder\\lib\\site-packages\\pyecharts\\charts\\chart.py:14: PendingDeprecationWarning: pyecharts 所有图表类型将在 v1.9.0 版本开始强制使用 ChartItem 进行数据项配置 :)\n",
      "  super().__init__(init_opts=init_opts)\n"
     ]
    }
   ],
   "source": [
    "rosechart=Pie(init_opts=opts.InitOpts(width='1350px',height='750px'));"
   ]
  },
  {
   "cell_type": "code",
   "execution_count": 135,
   "metadata": {
    "ExecuteTime": {
     "end_time": "2021-01-08T10:58:21.675318Z",
     "start_time": "2021-01-08T10:58:21.666307Z"
    }
   },
   "outputs": [],
   "source": [
    "#Set the color\n",
    "rosechart.set_colors(color_series);"
   ]
  },
  {
   "cell_type": "code",
   "execution_count": 136,
   "metadata": {
    "ExecuteTime": {
     "end_time": "2021-01-08T10:58:22.714349Z",
     "start_time": "2021-01-08T10:58:22.669283Z"
    }
   },
   "outputs": [],
   "source": [
    "#Add the data to the rosechart\n",
    "rosechart.add(\" \", [list(z) for z in zip(c, d)],\n",
    "              radius=[\"20%\", \"95%\"],\n",
    "              center=[\"30%\", \"60%\"],\n",
    "              rosetype=\"area\");  #20% for inside radius,95% for side radius"
   ]
  },
  {
   "cell_type": "code",
   "execution_count": 137,
   "metadata": {
    "ExecuteTime": {
     "end_time": "2021-01-08T10:58:23.255645Z",
     "start_time": "2021-01-08T10:58:23.229604Z"
    }
   },
   "outputs": [],
   "source": [
    "# Set the global options for the chart\n",
    "rosechart.set_global_opts(\n",
    "    title_opts=opts.TitleOpts(title=\"Nightingale Rose Chart\",\n",
    "                              subtitle=\"Covid-19 Death Rate\"),\n",
    "    legend_opts=opts.LegendOpts(is_show=False),\n",
    "    toolbox_opts=opts.ToolboxOpts(),\n",
    "    );"
   ]
  },
  {
   "cell_type": "code",
   "execution_count": 148,
   "metadata": {
    "ExecuteTime": {
     "end_time": "2021-01-08T11:05:43.507000Z",
     "start_time": "2021-01-08T11:05:43.444411Z"
    }
   },
   "outputs": [],
   "source": [
    "#Set the series options\n",
    "rosechart.set_series_opts(label_opts=opts.LabelOpts(is_show=True,\n",
    "                                                     position='outside',\n",
    "                                                     font_size=18,\n",
    "                                                     formatter=\"{b}:{c}%\",\n",
    "                                                     font_style=\"italic\",\n",
    "                                                     font_weight=\"bold\",color='black',rotate=65,\n",
    "                                                     font_family=\"century\"),);"
   ]
  },
  {
   "cell_type": "code",
   "execution_count": 149,
   "metadata": {
    "ExecuteTime": {
     "end_time": "2021-01-08T11:05:46.313561Z",
     "start_time": "2021-01-08T11:05:46.235440Z"
    }
   },
   "outputs": [
    {
     "data": {
      "text/plain": [
       "'C:\\\\Users\\\\MY PC\\\\Desktop\\\\IBK\\\\DATA SCIENCE PROJECTS\\\\WORLDOMETER DATA TO BE UPDATED\\\\covid-rosecharts.html'"
      ]
     },
     "execution_count": 149,
     "metadata": {},
     "output_type": "execute_result"
    }
   ],
   "source": [
    "rosechart.render('covid-rosecharts.html')"
   ]
  },
  {
   "cell_type": "code",
   "execution_count": 150,
   "metadata": {
    "ExecuteTime": {
     "end_time": "2021-01-08T11:05:47.305014Z",
     "start_time": "2021-01-08T11:05:47.257945Z"
    }
   },
   "outputs": [
    {
     "data": {
      "text/html": [
       "\n",
       "<script>\n",
       "    require.config({\n",
       "        paths: {\n",
       "            'echarts':'https://assets.pyecharts.org/assets/echarts.min'\n",
       "        }\n",
       "    });\n",
       "</script>\n",
       "\n",
       "        <div id=\"c2cab335c4cf44a68924b608c978c251\" style=\"width:1350px; height:750px;\"></div>\n",
       "\n",
       "<script>\n",
       "        require(['echarts'], function(echarts) {\n",
       "                var chart_c2cab335c4cf44a68924b608c978c251 = echarts.init(\n",
       "                    document.getElementById('c2cab335c4cf44a68924b608c978c251'), 'white', {renderer: 'canvas'});\n",
       "                var option_c2cab335c4cf44a68924b608c978c251 = {\n",
       "    \"animation\": true,\n",
       "    \"animationThreshold\": 2000,\n",
       "    \"animationDuration\": 1000,\n",
       "    \"animationEasing\": \"cubicOut\",\n",
       "    \"animationDelay\": 0,\n",
       "    \"animationDurationUpdate\": 300,\n",
       "    \"animationEasingUpdate\": \"cubicOut\",\n",
       "    \"animationDelayUpdate\": 0,\n",
       "    \"color\": [\n",
       "        \"#802200\",\n",
       "        \"#B33000\",\n",
       "        \"#FF4500\",\n",
       "        \"#FAAA327\",\n",
       "        \"#9ECB3C\",\n",
       "        \"#6DBC49\",\n",
       "        \"#37B44E\",\n",
       "        \"#6A368B\",\n",
       "        \"#2C6BA0\",\n",
       "        \"#44388E\",\n",
       "        \"#6A368B\",\n",
       "        \"#141DCF\",\n",
       "        \"#D02C2A\",\n",
       "        \"#D44C2D\",\n",
       "        \"#FA8F2F\"\n",
       "    ],\n",
       "    \"series\": [\n",
       "        {\n",
       "            \"type\": \"pie\",\n",
       "            \"name\": \" \",\n",
       "            \"clockwise\": true,\n",
       "            \"data\": [\n",
       "                {\n",
       "                    \"name\": \"Brazil\",\n",
       "                    \"value\": -26.6\n",
       "                },\n",
       "                {\n",
       "                    \"name\": \"India\",\n",
       "                    \"value\": 5.5\n",
       "                },\n",
       "                {\n",
       "                    \"name\": \"Mexico\",\n",
       "                    \"value\": 22.2\n",
       "                },\n",
       "                {\n",
       "                    \"name\": \"UK\",\n",
       "                    \"value\": 23.4\n",
       "                },\n",
       "                {\n",
       "                    \"name\": \"Italy\",\n",
       "                    \"value\": -0.4\n",
       "                },\n",
       "                {\n",
       "                    \"name\": \"France\",\n",
       "                    \"value\": -36.7\n",
       "                },\n",
       "                {\n",
       "                    \"name\": \"Russia\",\n",
       "                    \"value\": 6.4\n",
       "                },\n",
       "                {\n",
       "                    \"name\": \"Iran\",\n",
       "                    \"value\": 1.9\n",
       "                },\n",
       "                {\n",
       "                    \"name\": \"Spain\",\n",
       "                    \"value\": 2.6\n",
       "                },\n",
       "                {\n",
       "                    \"name\": \"Colombia\",\n",
       "                    \"value\": 41.3\n",
       "                },\n",
       "                {\n",
       "                    \"name\": \"Argentina\",\n",
       "                    \"value\": 22.9\n",
       "                },\n",
       "                {\n",
       "                    \"name\": \"Germany\",\n",
       "                    \"value\": 11.8\n",
       "                },\n",
       "                {\n",
       "                    \"name\": \"Peru\",\n",
       "                    \"value\": -11.8\n",
       "                },\n",
       "                {\n",
       "                    \"name\": \"South Africa\",\n",
       "                    \"value\": 34.0\n",
       "                },\n",
       "                {\n",
       "                    \"name\": \"Poland\",\n",
       "                    \"value\": 3.4\n",
       "                }\n",
       "            ],\n",
       "            \"radius\": [\n",
       "                \"20%\",\n",
       "                \"95%\"\n",
       "            ],\n",
       "            \"center\": [\n",
       "                \"30%\",\n",
       "                \"60%\"\n",
       "            ],\n",
       "            \"roseType\": \"area\",\n",
       "            \"label\": {\n",
       "                \"show\": true,\n",
       "                \"position\": \"outside\",\n",
       "                \"color\": \"black\",\n",
       "                \"rotate\": 65,\n",
       "                \"margin\": 8,\n",
       "                \"fontSize\": 18,\n",
       "                \"fontStyle\": \"italic\",\n",
       "                \"fontWeight\": \"bold\",\n",
       "                \"fontFamily\": \"century\",\n",
       "                \"formatter\": \"{b}:{c}%\"\n",
       "            },\n",
       "            \"rippleEffect\": {\n",
       "                \"show\": true,\n",
       "                \"brushType\": \"stroke\",\n",
       "                \"scale\": 2.5,\n",
       "                \"period\": 4\n",
       "            }\n",
       "        }\n",
       "    ],\n",
       "    \"legend\": [\n",
       "        {\n",
       "            \"data\": [\n",
       "                \"Brazil\",\n",
       "                \"India\",\n",
       "                \"Mexico\",\n",
       "                \"UK\",\n",
       "                \"Italy\",\n",
       "                \"France\",\n",
       "                \"Russia\",\n",
       "                \"Iran\",\n",
       "                \"Spain\",\n",
       "                \"Colombia\",\n",
       "                \"Argentina\",\n",
       "                \"Germany\",\n",
       "                \"Peru\",\n",
       "                \"South Africa\",\n",
       "                \"Poland\"\n",
       "            ],\n",
       "            \"selected\": {},\n",
       "            \"show\": false,\n",
       "            \"padding\": 5,\n",
       "            \"itemGap\": 10,\n",
       "            \"itemWidth\": 25,\n",
       "            \"itemHeight\": 14\n",
       "        }\n",
       "    ],\n",
       "    \"tooltip\": {\n",
       "        \"show\": true,\n",
       "        \"trigger\": \"item\",\n",
       "        \"triggerOn\": \"mousemove|click\",\n",
       "        \"axisPointer\": {\n",
       "            \"type\": \"line\"\n",
       "        },\n",
       "        \"showContent\": true,\n",
       "        \"alwaysShowContent\": false,\n",
       "        \"showDelay\": 0,\n",
       "        \"hideDelay\": 100,\n",
       "        \"textStyle\": {\n",
       "            \"fontSize\": 14\n",
       "        },\n",
       "        \"borderWidth\": 0,\n",
       "        \"padding\": 5\n",
       "    },\n",
       "    \"title\": [\n",
       "        {\n",
       "            \"text\": \"Nightingale Rose Chart\",\n",
       "            \"subtext\": \"Covid-19 Death Rate\",\n",
       "            \"padding\": 5,\n",
       "            \"itemGap\": 10\n",
       "        }\n",
       "    ],\n",
       "    \"toolbox\": {\n",
       "        \"show\": true,\n",
       "        \"orient\": \"horizontal\",\n",
       "        \"itemSize\": 15,\n",
       "        \"itemGap\": 10,\n",
       "        \"left\": \"80%\",\n",
       "        \"feature\": {\n",
       "            \"saveAsImage\": {\n",
       "                \"type\": \"png\",\n",
       "                \"backgroundColor\": \"auto\",\n",
       "                \"connectedBackgroundColor\": \"#fff\",\n",
       "                \"show\": true,\n",
       "                \"title\": \"\\u4fdd\\u5b58\\u4e3a\\u56fe\\u7247\",\n",
       "                \"pixelRatio\": 1\n",
       "            },\n",
       "            \"restore\": {\n",
       "                \"show\": true,\n",
       "                \"title\": \"\\u8fd8\\u539f\"\n",
       "            },\n",
       "            \"dataView\": {\n",
       "                \"show\": true,\n",
       "                \"title\": \"\\u6570\\u636e\\u89c6\\u56fe\",\n",
       "                \"readOnly\": false,\n",
       "                \"lang\": [\n",
       "                    \"\\u6570\\u636e\\u89c6\\u56fe\",\n",
       "                    \"\\u5173\\u95ed\",\n",
       "                    \"\\u5237\\u65b0\"\n",
       "                ],\n",
       "                \"backgroundColor\": \"#fff\",\n",
       "                \"textareaColor\": \"#fff\",\n",
       "                \"textareaBorderColor\": \"#333\",\n",
       "                \"textColor\": \"#000\",\n",
       "                \"buttonColor\": \"#c23531\",\n",
       "                \"buttonTextColor\": \"#fff\"\n",
       "            },\n",
       "            \"dataZoom\": {\n",
       "                \"show\": true,\n",
       "                \"title\": {\n",
       "                    \"zoom\": \"\\u533a\\u57df\\u7f29\\u653e\",\n",
       "                    \"back\": \"\\u533a\\u57df\\u7f29\\u653e\\u8fd8\\u539f\"\n",
       "                },\n",
       "                \"icon\": {},\n",
       "                \"xAxisIndex\": false,\n",
       "                \"yAxisIndex\": false,\n",
       "                \"filterMode\": \"filter\"\n",
       "            },\n",
       "            \"magicType\": {\n",
       "                \"show\": true,\n",
       "                \"type\": [\n",
       "                    \"line\",\n",
       "                    \"bar\",\n",
       "                    \"stack\",\n",
       "                    \"tiled\"\n",
       "                ],\n",
       "                \"title\": {\n",
       "                    \"line\": \"\\u5207\\u6362\\u4e3a\\u6298\\u7ebf\\u56fe\",\n",
       "                    \"bar\": \"\\u5207\\u6362\\u4e3a\\u67f1\\u72b6\\u56fe\",\n",
       "                    \"stack\": \"\\u5207\\u6362\\u4e3a\\u5806\\u53e0\",\n",
       "                    \"tiled\": \"\\u5207\\u6362\\u4e3a\\u5e73\\u94fa\"\n",
       "                },\n",
       "                \"icon\": {}\n",
       "            },\n",
       "            \"brush\": {\n",
       "                \"icon\": {},\n",
       "                \"title\": {\n",
       "                    \"rect\": \"\\u77e9\\u5f62\\u9009\\u62e9\",\n",
       "                    \"polygon\": \"\\u5708\\u9009\",\n",
       "                    \"lineX\": \"\\u6a2a\\u5411\\u9009\\u62e9\",\n",
       "                    \"lineY\": \"\\u7eb5\\u5411\\u9009\\u62e9\",\n",
       "                    \"keep\": \"\\u4fdd\\u6301\\u9009\\u62e9\",\n",
       "                    \"clear\": \"\\u6e05\\u9664\\u9009\\u62e9\"\n",
       "                }\n",
       "            }\n",
       "        }\n",
       "    }\n",
       "};\n",
       "                chart_c2cab335c4cf44a68924b608c978c251.setOption(option_c2cab335c4cf44a68924b608c978c251);\n",
       "        });\n",
       "    </script>\n"
      ],
      "text/plain": [
       "<pyecharts.render.display.HTML at 0x15ad4f4eb08>"
      ]
     },
     "execution_count": 150,
     "metadata": {},
     "output_type": "execute_result"
    }
   ],
   "source": [
    "rosechart.render_notebook()"
   ]
  },
  {
   "cell_type": "code",
   "execution_count": null,
   "metadata": {},
   "outputs": [],
   "source": []
  },
  {
   "cell_type": "code",
   "execution_count": null,
   "metadata": {},
   "outputs": [],
   "source": []
  }
 ],
 "metadata": {
  "hide_input": false,
  "kernelspec": {
   "display_name": "Python 3",
   "language": "python",
   "name": "python3"
  },
  "language_info": {
   "codemirror_mode": {
    "name": "ipython",
    "version": 3
   },
   "file_extension": ".py",
   "mimetype": "text/x-python",
   "name": "python",
   "nbconvert_exporter": "python",
   "pygments_lexer": "ipython3",
   "version": "3.7.6"
  },
  "varInspector": {
   "cols": {
    "lenName": 16,
    "lenType": 16,
    "lenVar": 40
   },
   "kernels_config": {
    "python": {
     "delete_cmd_postfix": "",
     "delete_cmd_prefix": "del ",
     "library": "var_list.py",
     "varRefreshCmd": "print(var_dic_list())"
    },
    "r": {
     "delete_cmd_postfix": ") ",
     "delete_cmd_prefix": "rm(",
     "library": "var_list.r",
     "varRefreshCmd": "cat(var_dic_list()) "
    }
   },
   "types_to_exclude": [
    "module",
    "function",
    "builtin_function_or_method",
    "instance",
    "_Feature"
   ],
   "window_display": false
  }
 },
 "nbformat": 4,
 "nbformat_minor": 4
}
